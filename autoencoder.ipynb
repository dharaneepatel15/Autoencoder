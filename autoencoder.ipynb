{
 "cells": [
  {
   "cell_type": "markdown",
   "metadata": {},
   "source": [
    "# AutoEncoder with MNIST "
   ]
  },
  {
   "cell_type": "markdown",
   "metadata": {},
   "source": [
    "### Load DataSet"
   ]
  },
  {
   "cell_type": "code",
   "execution_count": 1,
   "metadata": {},
   "outputs": [],
   "source": [
    "def getDataSet():\n",
    "    return tflearn.datasets.mnist.load_data(one_hot=True)"
   ]
  },
  {
   "cell_type": "markdown",
   "metadata": {},
   "source": [
    "### Train"
   ]
  },
  {
   "cell_type": "code",
   "execution_count": 2,
   "metadata": {},
   "outputs": [],
   "source": [
    "def trainModel(x):\n",
    "    input_layer = tflearn.input_data([None, 784])\n",
    "    enco_layer = tflearn.fully_connected(input_layer, 256)\n",
    "    enco_layer = tflearn.fully_connected(enco_layer, 64)\n",
    "    enco_layer = tflearn.fully_connected(enco_layer, 32)\n",
    "    deco_layer = tflearn.fully_connected(enco_layer, 64)\n",
    "    deco_layer = tflearn.fully_connected(deco_layer, 256)\n",
    "\n",
    "\n",
    "    dense = tflearn.fully_connected(deco_layer, 784, activation='sigmoid')\n",
    "    net = tflearn.regression(dense, loss='mean_square')\n",
    "\n",
    "    model = tflearn.DNN(net)\n",
    "    model.fit(x, x, n_epoch=2, batch_size=256, show_metric=True)\n",
    "    return model"
   ]
  },
  {
   "cell_type": "markdown",
   "metadata": {},
   "source": [
    "### Evaluate "
   ]
  },
  {
   "cell_type": "code",
   "execution_count": 3,
   "metadata": {},
   "outputs": [],
   "source": [
    "def evaluateModel(model, test_x):\n",
    "    score = model.evaluate(test_x, test_x)\n",
    "    return score"
   ]
  },
  {
   "cell_type": "markdown",
   "metadata": {},
   "source": [
    "### Predict"
   ]
  },
  {
   "cell_type": "code",
   "execution_count": 4,
   "metadata": {},
   "outputs": [],
   "source": [
    "def predictAndDisplay(model, test_x):\n",
    "    pred = model.predict(test_x)\n",
    "    fig, axes = plt.subplots(2, 2)\n",
    "\n",
    "    axes[0, 0].imshow(test_x[0].reshape((28, 28)), cmap='gray')\n",
    "    axes[0, 1].imshow(test_x[1].reshape((28, 28)), cmap='gray')\n",
    "    axes[1, 0].imshow(pred[0].reshape((28, 28)), cmap='gray')\n",
    "    axes[1, 1].imshow(pred[1].reshape((28, 28)), cmap='gray')\n",
    "    fig.show()\n",
    "    plt.show()"
   ]
  },
  {
   "cell_type": "code",
   "execution_count": 5,
   "metadata": {},
   "outputs": [
    {
     "name": "stdout",
     "output_type": "stream",
     "text": [
      "Training Step: 429  | total loss: \u001b[1m\u001b[32m0.06481\u001b[0m\u001b[0m | time: 2.909s\n",
      "| Adam | epoch: 002 | loss: 0.06481 - acc: 0.0141 -- iter: 54784/55000\n",
      "Training Step: 430  | total loss: \u001b[1m\u001b[32m0.06490\u001b[0m\u001b[0m | time: 2.924s\n",
      "| Adam | epoch: 002 | loss: 0.06490 - acc: 0.0147 -- iter: 55000/55000\n",
      "--\n",
      "Score:- [0.013]\n"
     ]
    },
    {
     "name": "stderr",
     "output_type": "stream",
     "text": [
      "/home/dharanee/.local/lib/python3.6/site-packages/matplotlib/figure.py:445: UserWarning: Matplotlib is currently using module://ipykernel.pylab.backend_inline, which is a non-GUI backend, so cannot show the figure.\n",
      "  % get_backend())\n"
     ]
    },
    {
     "data": {
      "image/png": "[encoded data removed]",
      "text/plain": [
       "<Figure size 432x288 with 4 Axes>"
      ]
     },
     "metadata": {
      "needs_background": "light"
     },
     "output_type": "display_data"
    }
   ],
   "source": [
    "import tflearn\n",
    "import matplotlib.pyplot as plt\n",
    "\n",
    "\n",
    "x, y, test_x, test_y = getDataSet()\n",
    "model = trainModel(x)\n",
    "score = evaluateModel(model, test_x)\n",
    "print(\"Score:-\", score)\n",
    "predictAndDisplay(model, test_x)"
   ]
  },
  {
   "cell_type": "code",
   "execution_count": null,
   "metadata": {},
   "outputs": [],
   "source": []
  }
 ],
 "metadata": {
  "kernelspec": {
   "display_name": "Python 3",
   "language": "python",
   "name": "python3"
  },
  "language_info": {
   "codemirror_mode": {
    "name": "ipython",
    "version": 3
   },
   "file_extension": ".py",
   "mimetype": "text/x-python",
   "name": "python",
   "nbconvert_exporter": "python",
   "pygments_lexer": "ipython3",
   "version": "3.6.8"
  }
 },
 "nbformat": 4,
 "nbformat_minor": 2
}
